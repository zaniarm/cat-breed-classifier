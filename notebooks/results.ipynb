{
 "cells": [
  {
   "cell_type": "code",
   "execution_count": 19,
   "metadata": {},
   "outputs": [],
   "source": [
    "import pandas as pd\n",
    "import tensorflow as tf\n",
    "from sklearn.metrics import confusion_matrix, ConfusionMatrixDisplay, classification_report, f1_score\n",
    "import numpy as np\n",
    "from keras.preprocessing.image import ImageDataGenerator"
   ]
  },
  {
   "cell_type": "code",
   "execution_count": 20,
   "metadata": {},
   "outputs": [],
   "source": [
    "def load_data(processed_X_test_path: str):\n",
    "    X_test = pd.read_csv(processed_X_test_path)\n",
    "    X_test['filepath'] = X_test['filepath'].apply(lambda x: '../' + x)\n",
    "\n",
    "    return X_test\n",
    "\n",
    "\n",
    "def load_model(model_filepath: str):\n",
    "    return tf.keras.saving.load_model(model_filepath)"
   ]
  },
  {
   "cell_type": "code",
   "execution_count": 21,
   "metadata": {},
   "outputs": [],
   "source": [
    "test_df = load_data('../data/processed/X_test.csv')\n",
    "model = load_model('../models/cat_classifier.keras')"
   ]
  },
  {
   "cell_type": "code",
   "execution_count": 22,
   "metadata": {},
   "outputs": [
    {
     "data": {
      "text/html": [
       "<div>\n",
       "<style scoped>\n",
       "    .dataframe tbody tr th:only-of-type {\n",
       "        vertical-align: middle;\n",
       "    }\n",
       "\n",
       "    .dataframe tbody tr th {\n",
       "        vertical-align: top;\n",
       "    }\n",
       "\n",
       "    .dataframe thead th {\n",
       "        text-align: right;\n",
       "    }\n",
       "</style>\n",
       "<table border=\"1\" class=\"dataframe\">\n",
       "  <thead>\n",
       "    <tr style=\"text-align: right;\">\n",
       "      <th></th>\n",
       "      <th>filepath</th>\n",
       "      <th>label</th>\n",
       "    </tr>\n",
       "  </thead>\n",
       "  <tbody>\n",
       "    <tr>\n",
       "      <th>0</th>\n",
       "      <td>../data/images/Balinese/25109398_614.jpg</td>\n",
       "      <td>Balinese</td>\n",
       "    </tr>\n",
       "    <tr>\n",
       "      <th>1</th>\n",
       "      <td>../data/images/Tonkinese/27252261_408.jpg</td>\n",
       "      <td>Tonkinese</td>\n",
       "    </tr>\n",
       "    <tr>\n",
       "      <th>2</th>\n",
       "      <td>../data/images/Balinese/28201868_532.jpg</td>\n",
       "      <td>Balinese</td>\n",
       "    </tr>\n",
       "    <tr>\n",
       "      <th>3</th>\n",
       "      <td>../data/images/Balinese/27861515_545.jpg</td>\n",
       "      <td>Balinese</td>\n",
       "    </tr>\n",
       "    <tr>\n",
       "      <th>4</th>\n",
       "      <td>../data/images/Abyssinian/42635732_144.jpg</td>\n",
       "      <td>Abyssinian</td>\n",
       "    </tr>\n",
       "  </tbody>\n",
       "</table>\n",
       "</div>"
      ],
      "text/plain": [
       "                                     filepath       label\n",
       "0    ../data/images/Balinese/25109398_614.jpg    Balinese\n",
       "1   ../data/images/Tonkinese/27252261_408.jpg   Tonkinese\n",
       "2    ../data/images/Balinese/28201868_532.jpg    Balinese\n",
       "3    ../data/images/Balinese/27861515_545.jpg    Balinese\n",
       "4  ../data/images/Abyssinian/42635732_144.jpg  Abyssinian"
      ]
     },
     "execution_count": 22,
     "metadata": {},
     "output_type": "execute_result"
    }
   ],
   "source": [
    "test_df.drop(columns=test_df.columns[0], inplace=True)\n",
    "test_df.head()"
   ]
  },
  {
   "cell_type": "code",
   "execution_count": 23,
   "metadata": {},
   "outputs": [
    {
     "name": "stdout",
     "output_type": "stream",
     "text": [
      "Found 102 validated image filenames belonging to 3 classes.\n"
     ]
    }
   ],
   "source": [
    "img_datagen = ImageDataGenerator(rescale=1./255, \n",
    "                                   rotation_range=30, \n",
    "                                   width_shift_range=0.2,\n",
    "                                   height_shift_range=0.2, \n",
    "                                   horizontal_flip = 'true')\n",
    "\n",
    "X_test = img_datagen.flow_from_dataframe(dataframe = test_df,  x_col='filepath', y_col='label',  target_size=(299, 299), shuffle=False, batch_size=30, seed = 12)"
   ]
  },
  {
   "cell_type": "code",
   "execution_count": 24,
   "metadata": {},
   "outputs": [
    {
     "name": "stdout",
     "output_type": "stream",
     "text": [
      "4/4 [==============================] - 3s 390ms/step\n"
     ]
    },
    {
     "data": {
      "text/plain": [
       "array([0, 2, 1, 0, 0, 0, 1, 2, 0, 0, 1, 1, 0, 1, 0, 1, 2, 1, 2, 2, 1, 1,\n",
       "       0, 0, 2, 1, 0, 0, 1, 0, 1, 0, 2, 0, 2, 1, 2, 1, 2, 1, 1, 2, 2, 1,\n",
       "       1, 0, 2, 1, 1, 1, 2, 1, 0, 1, 0, 1, 2, 0, 2, 0, 0, 0, 1, 1, 0, 2,\n",
       "       0, 2, 2, 0, 0, 0, 2, 0, 0, 2, 0, 0, 1, 2, 0, 0, 0, 0, 0, 1, 1, 1,\n",
       "       0, 1, 1, 1, 2, 2, 2, 0, 1, 2, 0, 1, 0, 0])"
      ]
     },
     "execution_count": 24,
     "metadata": {},
     "output_type": "execute_result"
    }
   ],
   "source": [
    "predictions = model.predict(X_test)\n",
    "predictions = np.argmax(predictions, axis=1)\n",
    "predictions"
   ]
  },
  {
   "cell_type": "code",
   "execution_count": 25,
   "metadata": {},
   "outputs": [],
   "source": [
    "# Figure out how to load from hydra configurations\n",
    "indices = {\n",
    "    'Abyssinian': 0,\n",
    "    'Balinese': 1,\n",
    "    'Tonkinese': 2\n",
    "}\n",
    "\n",
    "test_df[\"label\"].replace(indices, inplace=True)"
   ]
  },
  {
   "cell_type": "code",
   "execution_count": 26,
   "metadata": {},
   "outputs": [
    {
     "data": {
      "text/html": [
       "<div>\n",
       "<style scoped>\n",
       "    .dataframe tbody tr th:only-of-type {\n",
       "        vertical-align: middle;\n",
       "    }\n",
       "\n",
       "    .dataframe tbody tr th {\n",
       "        vertical-align: top;\n",
       "    }\n",
       "\n",
       "    .dataframe thead th {\n",
       "        text-align: right;\n",
       "    }\n",
       "</style>\n",
       "<table border=\"1\" class=\"dataframe\">\n",
       "  <thead>\n",
       "    <tr style=\"text-align: right;\">\n",
       "      <th></th>\n",
       "      <th>filepath</th>\n",
       "      <th>label</th>\n",
       "    </tr>\n",
       "  </thead>\n",
       "  <tbody>\n",
       "    <tr>\n",
       "      <th>0</th>\n",
       "      <td>../data/images/Balinese/25109398_614.jpg</td>\n",
       "      <td>1</td>\n",
       "    </tr>\n",
       "    <tr>\n",
       "      <th>1</th>\n",
       "      <td>../data/images/Tonkinese/27252261_408.jpg</td>\n",
       "      <td>2</td>\n",
       "    </tr>\n",
       "    <tr>\n",
       "      <th>2</th>\n",
       "      <td>../data/images/Balinese/28201868_532.jpg</td>\n",
       "      <td>1</td>\n",
       "    </tr>\n",
       "    <tr>\n",
       "      <th>3</th>\n",
       "      <td>../data/images/Balinese/27861515_545.jpg</td>\n",
       "      <td>1</td>\n",
       "    </tr>\n",
       "    <tr>\n",
       "      <th>4</th>\n",
       "      <td>../data/images/Abyssinian/42635732_144.jpg</td>\n",
       "      <td>0</td>\n",
       "    </tr>\n",
       "  </tbody>\n",
       "</table>\n",
       "</div>"
      ],
      "text/plain": [
       "                                     filepath  label\n",
       "0    ../data/images/Balinese/25109398_614.jpg      1\n",
       "1   ../data/images/Tonkinese/27252261_408.jpg      2\n",
       "2    ../data/images/Balinese/28201868_532.jpg      1\n",
       "3    ../data/images/Balinese/27861515_545.jpg      1\n",
       "4  ../data/images/Abyssinian/42635732_144.jpg      0"
      ]
     },
     "execution_count": 26,
     "metadata": {},
     "output_type": "execute_result"
    }
   ],
   "source": [
    "test_df.head()"
   ]
  },
  {
   "cell_type": "code",
   "execution_count": 27,
   "metadata": {},
   "outputs": [
    {
     "name": "stdout",
     "output_type": "stream",
     "text": [
      "4/4 [==============================] - 5s 497ms/step - loss: 0.5786 - accuracy: 0.7451\n",
      "Test accuracy is :  74.50980544090271 %\n"
     ]
    }
   ],
   "source": [
    "test_accuracy = model.evaluate(X_test)[1] * 100\n",
    "print('Test accuracy is : ',test_accuracy, '%' )"
   ]
  },
  {
   "cell_type": "code",
   "execution_count": 28,
   "metadata": {},
   "outputs": [
    {
     "data": {
      "text/plain": [
       "<sklearn.metrics._plot.confusion_matrix.ConfusionMatrixDisplay at 0x7f081e3e59c0>"
      ]
     },
     "execution_count": 28,
     "metadata": {},
     "output_type": "execute_result"
    },
    {
     "data": {
      "image/png": "[encoded data removed]",
      "text/plain": [
       "<Figure size 640x480 with 2 Axes>"
      ]
     },
     "metadata": {},
     "output_type": "display_data"
    }
   ],
   "source": [
    "# Not that great as expected, since model was trained only for one epoch anyways\n",
    "cf = confusion_matrix(test_df[\"label\"] , predictions)\n",
    "disp = ConfusionMatrixDisplay(cf)\n",
    "disp.plot()"
   ]
  },
  {
   "cell_type": "code",
   "execution_count": 29,
   "metadata": {},
   "outputs": [
    {
     "name": "stdout",
     "output_type": "stream",
     "text": [
      "              precision    recall  f1-score   support\n",
      "\n",
      "           0       0.71      0.94      0.81        31\n",
      "           1       0.71      0.74      0.72        34\n",
      "           2       0.88      0.62      0.73        37\n",
      "\n",
      "    accuracy                           0.75       102\n",
      "   macro avg       0.77      0.76      0.75       102\n",
      "weighted avg       0.77      0.75      0.75       102\n",
      "\n"
     ]
    }
   ],
   "source": [
    "print(classification_report(test_df[\"label\"], predictions))"
   ]
  },
  {
   "cell_type": "code",
   "execution_count": 31,
   "metadata": {},
   "outputs": [
    {
     "name": "stdout",
     "output_type": "stream",
     "text": [
      "F1 score:  0.7512331019364267\n"
     ]
    }
   ],
   "source": [
    "print(\"F1 score: \", f1_score(test_df['label'], predictions, average = 'weighted'))"
   ]
  }
 ],
 "metadata": {
  "kernelspec": {
   "display_name": ".venv",
   "language": "python",
   "name": "python3"
  },
  "language_info": {
   "codemirror_mode": {
    "name": "ipython",
    "version": 3
   },
   "file_extension": ".py",
   "mimetype": "text/x-python",
   "name": "python",
   "nbconvert_exporter": "python",
   "pygments_lexer": "ipython3",
   "version": "3.10.12"
  }
 },
 "nbformat": 4,
 "nbformat_minor": 2
}
